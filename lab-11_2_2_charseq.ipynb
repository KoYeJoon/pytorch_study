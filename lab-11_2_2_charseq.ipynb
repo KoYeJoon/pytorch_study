{
 "cells": [
  {
   "cell_type": "code",
   "execution_count": 1,
   "metadata": {},
   "outputs": [],
   "source": [
    "import torch\n",
    "import torch.optim as optim\n",
    "import numpy as np"
   ]
  },
  {
   "cell_type": "code",
   "execution_count": 2,
   "metadata": {},
   "outputs": [
    {
     "data": {
      "text/plain": [
       "<torch._C.Generator at 0x7fde1eb9ef70>"
      ]
     },
     "execution_count": 2,
     "metadata": {},
     "output_type": "execute_result"
    }
   ],
   "source": [
    "# Random seed to make results deterministic and reproducible\n",
    "torch.manual_seed(0)"
   ]
  },
  {
   "cell_type": "code",
   "execution_count": 3,
   "metadata": {},
   "outputs": [],
   "source": [
    "sample = \" if you want you\""
   ]
  },
  {
   "cell_type": "code",
   "execution_count": 4,
   "metadata": {},
   "outputs": [
    {
     "name": "stdout",
     "output_type": "stream",
     "text": [
      "{'i': 0, 'u': 1, ' ': 2, 't': 3, 'f': 4, 'n': 5, 'o': 6, 'y': 7, 'w': 8, 'a': 9}\n"
     ]
    }
   ],
   "source": [
    "# make dictionary\n",
    "char_set = list(set(sample))\n",
    "char_dic = {c: i for i, c in enumerate(char_set)}\n",
    "print(char_dic)"
   ]
  },
  {
   "cell_type": "code",
   "execution_count": 5,
   "metadata": {},
   "outputs": [],
   "source": [
    "# hyper parameters\n",
    "dic_size = len(char_dic)\n",
    "hidden_size = len(char_dic)\n",
    "learning_rate = 0.1"
   ]
  },
  {
   "cell_type": "code",
   "execution_count": 6,
   "metadata": {},
   "outputs": [],
   "source": [
    "# data setting\n",
    "sample_idx = [char_dic[c] for c in sample]\n",
    "x_data = [sample_idx[:-1]]\n",
    "x_one_hot = [np.eye(dic_size)[x] for x in x_data]\n",
    "y_data = [sample_idx[1:]]"
   ]
  },
  {
   "cell_type": "code",
   "execution_count": 7,
   "metadata": {},
   "outputs": [],
   "source": [
    "# transform as torch tensor variable\n",
    "X = torch.FloatTensor(x_one_hot)\n",
    "Y = torch.LongTensor(y_data)"
   ]
  },
  {
   "cell_type": "code",
   "execution_count": 8,
   "metadata": {},
   "outputs": [],
   "source": [
    "# declare RNN\n",
    "rnn = torch.nn.RNN(dic_size, hidden_size, batch_first=True)"
   ]
  },
  {
   "cell_type": "code",
   "execution_count": 9,
   "metadata": {},
   "outputs": [],
   "source": [
    "# loss & optimizer setting\n",
    "criterion = torch.nn.CrossEntropyLoss()\n",
    "optimizer = optim.Adam(rnn.parameters(), learning_rate)"
   ]
  },
  {
   "cell_type": "code",
   "execution_count": 10,
   "metadata": {
    "scrolled": true
   },
   "outputs": [
    {
     "name": "stdout",
     "output_type": "stream",
     "text": [
      "0 loss:  2.3054754734039307 prediction:  [[8 5 7 7 1 2 8 7 8 0 7 7 8 0 2]] true Y:  [[0, 4, 2, 7, 6, 1, 2, 8, 9, 5, 3, 2, 7, 6, 1]] prediction str:  wnyyu wywiyywi \n",
      "1 loss:  2.0046985149383545 prediction:  [[7 6 5 7 6 5 2 7 6 5 7 7 7 6 5]] true Y:  [[0, 4, 2, 7, 6, 1, 2, 8, 9, 5, 3, 2, 7, 6, 1]] prediction str:  yonyon yonyyyon\n",
      "2 loss:  1.7583881616592407 prediction:  [[7 6 5 7 6 1 2 7 6 5 7 2 7 6 1]] true Y:  [[0, 4, 2, 7, 6, 1, 2, 8, 9, 5, 3, 2, 7, 6, 1]] prediction str:  yonyou yony you\n",
      "3 loss:  1.6203951835632324 prediction:  [[7 4 5 7 6 1 2 7 6 5 2 2 7 6 1]] true Y:  [[0, 4, 2, 7, 6, 1, 2, 8, 9, 5, 3, 2, 7, 6, 1]] prediction str:  yfnyou yon  you\n",
      "4 loss:  1.5066478252410889 prediction:  [[7 4 2 7 6 1 2 7 6 5 3 2 7 6 1]] true Y:  [[0, 4, 2, 7, 6, 1, 2, 8, 9, 5, 3, 2, 7, 6, 1]] prediction str:  yf you yont you\n",
      "5 loss:  1.424399495124817 prediction:  [[7 2 2 7 6 1 2 8 6 5 3 2 7 6 1]] true Y:  [[0, 4, 2, 7, 6, 1, 2, 8, 9, 5, 3, 2, 7, 6, 1]] prediction str:  y  you wont you\n",
      "6 loss:  1.3380073308944702 prediction:  [[8 2 2 7 6 1 2 8 6 5 3 2 7 6 1]] true Y:  [[0, 4, 2, 7, 6, 1, 2, 8, 9, 5, 3, 2, 7, 6, 1]] prediction str:  w  you wont you\n",
      "7 loss:  1.2629907131195068 prediction:  [[0 2 2 7 6 1 2 8 9 5 3 2 7 6 1]] true Y:  [[0, 4, 2, 7, 6, 1, 2, 8, 9, 5, 3, 2, 7, 6, 1]] prediction str:  i  you want you\n",
      "8 loss:  1.1853854656219482 prediction:  [[0 2 2 7 6 1 2 8 9 5 3 2 7 6 1]] true Y:  [[0, 4, 2, 7, 6, 1, 2, 8, 9, 5, 3, 2, 7, 6, 1]] prediction str:  i  you want you\n",
      "9 loss:  1.1190946102142334 prediction:  [[0 4 2 7 6 1 2 8 9 5 3 2 7 6 1]] true Y:  [[0, 4, 2, 7, 6, 1, 2, 8, 9, 5, 3, 2, 7, 6, 1]] prediction str:  if you want you\n",
      "10 loss:  1.0661938190460205 prediction:  [[0 4 2 7 6 1 2 8 6 5 3 2 7 6 1]] true Y:  [[0, 4, 2, 7, 6, 1, 2, 8, 9, 5, 3, 2, 7, 6, 1]] prediction str:  if you wont you\n",
      "11 loss:  1.031363844871521 prediction:  [[0 4 2 7 6 1 2 8 6 5 3 2 7 6 1]] true Y:  [[0, 4, 2, 7, 6, 1, 2, 8, 9, 5, 3, 2, 7, 6, 1]] prediction str:  if you wont you\n",
      "12 loss:  1.0041511058807373 prediction:  [[0 4 2 7 6 1 2 7 6 5 3 2 7 6 1]] true Y:  [[0, 4, 2, 7, 6, 1, 2, 8, 9, 5, 3, 2, 7, 6, 1]] prediction str:  if you yont you\n",
      "13 loss:  0.9802987575531006 prediction:  [[0 4 2 7 6 1 2 7 6 5 3 2 7 6 1]] true Y:  [[0, 4, 2, 7, 6, 1, 2, 8, 9, 5, 3, 2, 7, 6, 1]] prediction str:  if you yont you\n",
      "14 loss:  0.9631797671318054 prediction:  [[0 4 2 7 6 1 2 7 6 5 3 2 7 6 1]] true Y:  [[0, 4, 2, 7, 6, 1, 2, 8, 9, 5, 3, 2, 7, 6, 1]] prediction str:  if you yont you\n",
      "15 loss:  0.9487900137901306 prediction:  [[0 4 2 7 6 1 2 7 6 5 3 2 7 6 1]] true Y:  [[0, 4, 2, 7, 6, 1, 2, 8, 9, 5, 3, 2, 7, 6, 1]] prediction str:  if you yont you\n",
      "16 loss:  0.9341782927513123 prediction:  [[0 4 2 7 6 1 2 7 6 5 3 2 7 6 1]] true Y:  [[0, 4, 2, 7, 6, 1, 2, 8, 9, 5, 3, 2, 7, 6, 1]] prediction str:  if you yont you\n",
      "17 loss:  0.9206489324569702 prediction:  [[0 4 2 7 6 1 2 7 6 5 3 2 7 6 1]] true Y:  [[0, 4, 2, 7, 6, 1, 2, 8, 9, 5, 3, 2, 7, 6, 1]] prediction str:  if you yont you\n",
      "18 loss:  0.9101894497871399 prediction:  [[0 4 2 7 6 1 2 7 9 5 3 2 7 6 1]] true Y:  [[0, 4, 2, 7, 6, 1, 2, 8, 9, 5, 3, 2, 7, 6, 1]] prediction str:  if you yant you\n",
      "19 loss:  0.9022804498672485 prediction:  [[0 4 2 7 6 1 2 7 9 5 3 2 7 6 1]] true Y:  [[0, 4, 2, 7, 6, 1, 2, 8, 9, 5, 3, 2, 7, 6, 1]] prediction str:  if you yant you\n",
      "20 loss:  0.895408034324646 prediction:  [[0 4 2 7 6 1 2 7 9 5 3 2 7 6 1]] true Y:  [[0, 4, 2, 7, 6, 1, 2, 8, 9, 5, 3, 2, 7, 6, 1]] prediction str:  if you yant you\n",
      "21 loss:  0.8902359008789062 prediction:  [[0 4 2 7 6 1 2 7 9 5 3 2 7 6 1]] true Y:  [[0, 4, 2, 7, 6, 1, 2, 8, 9, 5, 3, 2, 7, 6, 1]] prediction str:  if you yant you\n",
      "22 loss:  0.885984480381012 prediction:  [[0 4 2 7 6 1 2 7 9 5 3 2 7 6 1]] true Y:  [[0, 4, 2, 7, 6, 1, 2, 8, 9, 5, 3, 2, 7, 6, 1]] prediction str:  if you yant you\n",
      "23 loss:  0.8818628191947937 prediction:  [[0 4 2 7 6 1 2 7 9 5 3 2 7 6 1]] true Y:  [[0, 4, 2, 7, 6, 1, 2, 8, 9, 5, 3, 2, 7, 6, 1]] prediction str:  if you yant you\n",
      "24 loss:  0.8779533505439758 prediction:  [[0 4 2 7 6 1 2 7 9 5 3 2 7 6 1]] true Y:  [[0, 4, 2, 7, 6, 1, 2, 8, 9, 5, 3, 2, 7, 6, 1]] prediction str:  if you yant you\n",
      "25 loss:  0.8747314214706421 prediction:  [[0 4 2 7 6 1 2 7 9 5 3 2 7 6 1]] true Y:  [[0, 4, 2, 7, 6, 1, 2, 8, 9, 5, 3, 2, 7, 6, 1]] prediction str:  if you yant you\n",
      "26 loss:  0.8718988299369812 prediction:  [[0 4 2 7 6 1 2 7 9 5 3 2 7 6 1]] true Y:  [[0, 4, 2, 7, 6, 1, 2, 8, 9, 5, 3, 2, 7, 6, 1]] prediction str:  if you yant you\n",
      "27 loss:  0.8690307140350342 prediction:  [[0 4 2 7 6 1 2 7 9 5 3 2 7 6 1]] true Y:  [[0, 4, 2, 7, 6, 1, 2, 8, 9, 5, 3, 2, 7, 6, 1]] prediction str:  if you yant you\n",
      "28 loss:  0.866707444190979 prediction:  [[0 4 2 7 6 1 2 8 9 5 3 2 7 6 1]] true Y:  [[0, 4, 2, 7, 6, 1, 2, 8, 9, 5, 3, 2, 7, 6, 1]] prediction str:  if you want you\n",
      "29 loss:  0.8646253943443298 prediction:  [[0 4 2 7 6 1 2 8 9 5 3 2 7 6 1]] true Y:  [[0, 4, 2, 7, 6, 1, 2, 8, 9, 5, 3, 2, 7, 6, 1]] prediction str:  if you want you\n",
      "30 loss:  0.8623363971710205 prediction:  [[0 4 2 7 6 1 2 8 9 5 3 2 7 6 1]] true Y:  [[0, 4, 2, 7, 6, 1, 2, 8, 9, 5, 3, 2, 7, 6, 1]] prediction str:  if you want you\n",
      "31 loss:  0.8596060872077942 prediction:  [[0 4 2 7 6 1 2 8 9 5 3 2 7 6 1]] true Y:  [[0, 4, 2, 7, 6, 1, 2, 8, 9, 5, 3, 2, 7, 6, 1]] prediction str:  if you want you\n",
      "32 loss:  0.8552178144454956 prediction:  [[0 4 2 7 6 1 2 8 9 5 3 2 7 6 1]] true Y:  [[0, 4, 2, 7, 6, 1, 2, 8, 9, 5, 3, 2, 7, 6, 1]] prediction str:  if you want you\n",
      "33 loss:  0.8466576933860779 prediction:  [[0 4 2 7 6 1 2 8 9 5 3 2 7 6 1]] true Y:  [[0, 4, 2, 7, 6, 1, 2, 8, 9, 5, 3, 2, 7, 6, 1]] prediction str:  if you want you\n",
      "34 loss:  0.8602710962295532 prediction:  [[0 4 2 7 6 1 2 8 9 5 3 2 7 6 1]] true Y:  [[0, 4, 2, 7, 6, 1, 2, 8, 9, 5, 3, 2, 7, 6, 1]] prediction str:  if you want you\n",
      "35 loss:  0.8663439154624939 prediction:  [[0 4 2 7 6 1 2 7 9 5 3 2 7 6 1]] true Y:  [[0, 4, 2, 7, 6, 1, 2, 8, 9, 5, 3, 2, 7, 6, 1]] prediction str:  if you yant you\n",
      "36 loss:  0.8566969037055969 prediction:  [[0 4 2 7 6 1 2 7 9 5 3 2 7 6 1]] true Y:  [[0, 4, 2, 7, 6, 1, 2, 8, 9, 5, 3, 2, 7, 6, 1]] prediction str:  if you yant you\n",
      "37 loss:  0.8602960705757141 prediction:  [[0 4 2 7 6 1 2 8 9 5 3 2 7 6 1]] true Y:  [[0, 4, 2, 7, 6, 1, 2, 8, 9, 5, 3, 2, 7, 6, 1]] prediction str:  if you want you\n",
      "38 loss:  0.8653353452682495 prediction:  [[0 4 2 7 6 1 2 8 9 5 3 2 7 6 1]] true Y:  [[0, 4, 2, 7, 6, 1, 2, 8, 9, 5, 3, 2, 7, 6, 1]] prediction str:  if you want you\n",
      "39 loss:  0.8673314452171326 prediction:  [[0 4 2 7 6 1 2 8 9 5 3 2 7 6 1]] true Y:  [[0, 4, 2, 7, 6, 1, 2, 8, 9, 5, 3, 2, 7, 6, 1]] prediction str:  if you want you\n",
      "40 loss:  0.8662920594215393 prediction:  [[0 4 2 7 6 1 2 8 9 5 3 2 7 6 1]] true Y:  [[0, 4, 2, 7, 6, 1, 2, 8, 9, 5, 3, 2, 7, 6, 1]] prediction str:  if you want you\n",
      "41 loss:  0.8634392619132996 prediction:  [[0 4 2 7 6 1 2 8 9 5 3 2 7 6 1]] true Y:  [[0, 4, 2, 7, 6, 1, 2, 8, 9, 5, 3, 2, 7, 6, 1]] prediction str:  if you want you\n",
      "42 loss:  0.8595936298370361 prediction:  [[0 4 2 7 6 1 2 8 9 5 3 2 7 6 1]] true Y:  [[0, 4, 2, 7, 6, 1, 2, 8, 9, 5, 3, 2, 7, 6, 1]] prediction str:  if you want you\n",
      "43 loss:  0.8555688858032227 prediction:  [[0 4 2 7 6 1 2 7 9 5 3 2 7 6 1]] true Y:  [[0, 4, 2, 7, 6, 1, 2, 8, 9, 5, 3, 2, 7, 6, 1]] prediction str:  if you yant you\n",
      "44 loss:  0.8558515906333923 prediction:  [[0 4 2 7 6 1 2 7 9 5 3 2 7 6 1]] true Y:  [[0, 4, 2, 7, 6, 1, 2, 8, 9, 5, 3, 2, 7, 6, 1]] prediction str:  if you yant you\n",
      "45 loss:  0.8532254695892334 prediction:  [[0 4 2 7 6 1 2 7 9 5 3 2 7 6 1]] true Y:  [[0, 4, 2, 7, 6, 1, 2, 8, 9, 5, 3, 2, 7, 6, 1]] prediction str:  if you yant you\n",
      "46 loss:  0.8455727696418762 prediction:  [[0 4 2 7 6 1 2 7 9 5 3 2 7 6 1]] true Y:  [[0, 4, 2, 7, 6, 1, 2, 8, 9, 5, 3, 2, 7, 6, 1]] prediction str:  if you yant you\n",
      "47 loss:  0.8425541520118713 prediction:  [[0 4 2 7 6 1 2 8 9 5 3 2 7 6 1]] true Y:  [[0, 4, 2, 7, 6, 1, 2, 8, 9, 5, 3, 2, 7, 6, 1]] prediction str:  if you want you\n",
      "48 loss:  0.8421178460121155 prediction:  [[0 4 2 7 6 1 2 8 9 5 3 2 7 6 1]] true Y:  [[0, 4, 2, 7, 6, 1, 2, 8, 9, 5, 3, 2, 7, 6, 1]] prediction str:  if you want you\n",
      "49 loss:  0.8429761528968811 prediction:  [[0 4 2 7 6 1 2 8 9 5 3 2 7 6 1]] true Y:  [[0, 4, 2, 7, 6, 1, 2, 8, 9, 5, 3, 2, 7, 6, 1]] prediction str:  if you want you\n"
     ]
    }
   ],
   "source": [
    "# start training\n",
    "for i in range(50):\n",
    "    optimizer.zero_grad()\n",
    "    outputs, _status = rnn(X)\n",
    "    loss = criterion(outputs.view(-1, dic_size), Y.view(-1))\n",
    "    loss.backward()\n",
    "    optimizer.step()\n",
    "\n",
    "    result = outputs.data.numpy().argmax(axis=2)\n",
    "    result_str = ''.join([char_set[c] for c in np.squeeze(result)])\n",
    "    print(i, \"loss: \", loss.item(), \"prediction: \", result, \"true Y: \", y_data, \"prediction str: \", result_str)"
   ]
  },
  {
   "cell_type": "code",
   "execution_count": null,
   "metadata": {},
   "outputs": [],
   "source": []
  }
 ],
 "metadata": {
  "kernelspec": {
   "display_name": "Python 3",
   "language": "python",
   "name": "python3"
  },
  "language_info": {
   "codemirror_mode": {
    "name": "ipython",
    "version": 3
   },
   "file_extension": ".py",
   "mimetype": "text/x-python",
   "name": "python",
   "nbconvert_exporter": "python",
   "pygments_lexer": "ipython3",
   "version": "3.6.7"
  }
 },
 "nbformat": 4,
 "nbformat_minor": 2
}
